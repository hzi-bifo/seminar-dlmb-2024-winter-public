{
  "cells": [
    {
      "cell_type": "code",
      "execution_count": 1,
      "metadata": {
        "colab": {
          "base_uri": "https://localhost:8080/"
        },
        "id": "P8Y_rm5GqtVm",
        "outputId": "2db84de7-788e-4f78-b133-7cb1eb01c86c"
      },
      "outputs": [
        {
          "name": "stdout",
          "output_type": "stream",
          "text": [
            "Cloning into 'seminar-dlmb-2024'...\n",
            "remote: Enumerating objects: 27, done.\u001b[K\n",
            "remote: Counting objects: 100% (27/27), done.\u001b[K\n",
            "remote: Compressing objects: 100% (25/25), done.\u001b[K\n",
            "remote: Total 27 (delta 4), reused 17 (delta 1), pack-reused 0\u001b[K\n",
            "Receiving objects: 100% (27/27), 95.32 KiB | 3.53 MiB/s, done.\n",
            "Resolving deltas: 100% (4/4), done.\n"
          ]
        }
      ],
      "source": [
        "!git clone https://github.com/hzi-bifo/seminar-dlmb-2024-winter-public"
      ]
    },
    {
      "cell_type": "code",
      "execution_count": 3,
      "metadata": {
        "colab": {
          "base_uri": "https://localhost:8080/"
        },
        "id": "T16KLTe-rbiN",
        "outputId": "713dc62f-59b3-4872-ab28-c578eb08c320"
      },
      "outputs": [
        {
          "name": "stdout",
          "output_type": "stream",
          "text": [
            "Collecting biopython\n",
            "  Downloading biopython-1.83-cp310-cp310-manylinux_2_17_x86_64.manylinux2014_x86_64.whl (3.1 MB)\n",
            "\u001b[2K     \u001b[90m━━━━━━━━━━━━━━━━━━━━━━━━━━━━━━━━━━━━━━━━\u001b[0m \u001b[32m3.1/3.1 MB\u001b[0m \u001b[31m9.4 MB/s\u001b[0m eta \u001b[36m0:00:00\u001b[0m\n",
            "\u001b[?25hRequirement already satisfied: numpy in /usr/local/lib/python3.10/dist-packages (from biopython) (1.25.2)\n",
            "Installing collected packages: biopython\n",
            "Successfully installed biopython-1.83\n"
          ]
        }
      ],
      "source": [
        "import pip\n",
        "\n",
        "def import_or_install(package):\n",
        "    try:\n",
        "        __import__(package)\n",
        "    except ImportError:\n",
        "        pip.main(['install', package])\n",
        "        __import__(package)\n",
        "\n",
        "import_or_install('biopython')"
      ]
    },
    {
      "cell_type": "code",
      "execution_count": 4,
      "metadata": {
        "id": "zLOTRXcMreim"
      },
      "outputs": [],
      "source": [
        "import sys\n",
        "sys.path.append('seminar-dlmb-2024-winter-public/src/')\n",
        "# from utility.file_utility import FileUtility\n",
        "from amr.amr_utility import load_gene_data, create_gene_datasets\n",
        "\n",
        "# Loading the AMR prediction data\n",
        "\n",
        "ds = load_gene_data(\"seminar-dlmb-2024-winter-public/data/ds1\", \"Klebsiella_pneumoniae_aztreonam\", \"acrR\")\n",
        "print(ds[\"test\"])\n",
        "print(ds[\"train\"])\n",
        "\n",
        "seq_train = [x[1] for x in ds[\"train\"]]\n",
        "y_train = [x[2] for x in ds[\"train\"]]\n",
        "\n",
        "seq_test = [x[1] for x in ds[\"test\"]]\n",
        "y_test = [x[2] for x in ds[\"test\"]]\n",
        "\n",
        "\n",
        "# # train data\n",
        "# seq_train=FileUtility.load_list('/content/seminar-dlmb-2024/dataset/train_seq.txt')\n",
        "# y_train=FileUtility.load_list('/content/seminar-dlmb-2024/dataset/train_label.txt')\n",
        "# # test data\n",
        "# seq_test=FileUtility.load_list('/content/seminar-dlmb-2024/dataset/test_seq.txt')\n",
        "# y_test=FileUtility.load_list('/content/seminar-dlmb-2024/dataset/test_label.txt')"
      ]
    },
    {
      "cell_type": "code",
      "execution_count": 5,
      "metadata": {
        "colab": {
          "base_uri": "https://localhost:8080/"
        },
        "id": "WI4sMG38rhqD",
        "outputId": "1ab47378-c90e-440f-d188-c243d4f6596c"
      },
      "outputs": [
        {
          "name": "stdout",
          "output_type": "stream",
          "text": [
            "Num of samples in train data: 124\n",
            "Num of samples in test data: 31\n"
          ]
        }
      ],
      "source": [
        "print('Num of samples in train data: {}'.format(len(seq_train)))\n",
        "print('Num of samples in test data: {}'.format(len(seq_test)))\n"
      ]
    },
    {
      "cell_type": "code",
      "execution_count": 6,
      "metadata": {
        "colab": {
          "base_uri": "https://localhost:8080/"
        },
        "id": "GITz5eTbriHR",
        "outputId": "2a3dcfc8-fcb1-4da8-aa78-80d469f77faa"
      },
      "outputs": [
        {
          "name": "stdout",
          "output_type": "stream",
          "text": [
            "Input of the first element:\n",
            "mqtmifslayiillatvsaipsgrvdivfpsletsrsgvkiikfealgqdielnlepageilakdfaivdlnnqrehltnvedlkrkiyrdsvkgaallidengpltmqgiinsklrivpyesgrvikdgriahqivelindeksyindvmpldvngvmenvvkiskkspciiidylcvtettfterfktnkelleyitvmftgvqnlldtlnlgikaqvigitpfkkqnepsfiedsaipghqqvldpvdlvknmakyycnnakglakdadiimlisnrklgelqddgtvayntagislgsgvckqcskvgvaqddsdynervdtvahetahligaphdeegpeqtgisgspgakdcpesdgyimgsgnnkvnkfkfskctkkcvehllslprascvladc\n",
            "First label: 0 -> non-toxic\n"
          ]
        }
      ],
      "source": [
        "print('Input of the first element:\\n{}'.format(seq_train[0]))\n",
        "print('First label: {} -> non-toxic'.format(y_train[0]))"
      ]
    },
    {
      "cell_type": "code",
      "execution_count": 7,
      "metadata": {
        "id": "6Yx-RGFKrku8"
      },
      "outputs": [],
      "source": [
        "import seaborn as sns\n",
        "import numpy as np"
      ]
    },
    {
      "cell_type": "code",
      "execution_count": 8,
      "metadata": {
        "colab": {
          "base_uri": "https://localhost:8080/",
          "height": 447
        },
        "id": "eN3uFJqlrm8w",
        "outputId": "6300bc9f-2668-449d-90fd-6196519ced5d"
      },
      "outputs": [
        {
          "name": "stdout",
          "output_type": "stream",
          "text": [
            "Median and mean sequence length: 87.5, 180.82258064516128\n"
          ]
        },
        {
          "data": {
            "image/png": "[encoded data removed]",
            "text/plain": [
              "<Figure size 640x480 with 1 Axes>"
            ]
          },
          "metadata": {},
          "output_type": "display_data"
        }
      ],
      "source": [
        "len_train = [len(s) for s in seq_train]\n",
        "sns.histplot(len_train, binwidth=20)\n",
        "median = np.median(len_train)\n",
        "mean = np.mean(len_train)\n",
        "print('Median and mean sequence length: {}, {}'.format(median, mean))"
      ]
    },
    {
      "cell_type": "code",
      "execution_count": 9,
      "metadata": {
        "colab": {
          "base_uri": "https://localhost:8080/"
        },
        "id": "u6p9aOHvrpEZ",
        "outputId": "3a2c4bc1-e82f-4f31-9184-4489348dc96b"
      },
      "outputs": [
        {
          "name": "stdout",
          "output_type": "stream",
          "text": [
            "Labels in training data\n",
            "Non toxic: 45\n",
            "Toxic: 79\n"
          ]
        }
      ],
      "source": [
        "uniq_vals = set(y_train)\n",
        "y_train_int = list(map(int, y_train))\n",
        "print('Labels in training data')\n",
        "print('Non toxic: {}'.format(y_train_int.count(0)))\n",
        "print('Toxic: {}'.format(y_train_int.count(1)))"
      ]
    },
    {
      "cell_type": "code",
      "execution_count": 10,
      "metadata": {
        "colab": {
          "base_uri": "https://localhost:8080/"
        },
        "id": "Nq88QNXvrsLv",
        "outputId": "8469db5c-61be-42dc-a903-7eb2be012349"
      },
      "outputs": [
        {
          "name": "stdout",
          "output_type": "stream",
          "text": [
            "Labels in test data\n",
            "Non toxic: 14\n",
            "Toxic: 17\n"
          ]
        }
      ],
      "source": [
        "uniq_vals = set(y_test)\n",
        "y_test_int = list(map(int, y_test))\n",
        "print('Labels in test data')\n",
        "print('Non toxic: {}'.format(y_test_int.count(0)))\n",
        "print('Toxic: {}'.format(y_test_int.count(1)))"
      ]
    }
  ],
  "metadata": {
    "colab": {
      "authorship_tag": "ABX9TyO6dOwREOWKQKva2W7E2j0Z",
      "provenance": []
    },
    "kernelspec": {
      "display_name": "Python 3",
      "name": "python3"
    },
    "language_info": {
      "name": "python"
    }
  },
  "nbformat": 4,
  "nbformat_minor": 0
}
