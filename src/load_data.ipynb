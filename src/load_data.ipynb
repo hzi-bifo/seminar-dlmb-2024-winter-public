{
  "cells": [
    {
      "cell_type": "code",
      "execution_count": 3,
      "metadata": {
        "colab": {
          "base_uri": "https://localhost:8080/"
        },
        "id": "P8Y_rm5GqtVm",
        "outputId": "2db84de7-788e-4f78-b133-7cb1eb01c86c"
      },
      "outputs": [
        {
          "name": "stdout",
          "output_type": "stream",
          "text": [
            "Cloning into 'seminar-dlmb-2024-winter-public'...\n",
            "remote: Enumerating objects: 27, done.\u001b[K\n",
            "remote: Counting objects: 100% (27/27), done.\u001b[K\n",
            "remote: Compressing objects: 100% (22/22), done.\u001b[K\n",
            "remote: Total 27 (delta 2), reused 27 (delta 2), pack-reused 0 (from 0)\u001b[K\n",
            "Receiving objects: 100% (27/27), 1.83 MiB | 3.19 MiB/s, done.\n",
            "Resolving deltas: 100% (2/2), done.\n"
          ]
        }
      ],
      "source": [
        "# Downloading our library \n",
        "!git clone git@github.com:hzi-bifo/seminar-dlmb-2024-winter-public.git"
      ]
    },
    {
      "cell_type": "code",
      "execution_count": 11,
      "metadata": {
        "colab": {
          "base_uri": "https://localhost:8080/"
        },
        "id": "T16KLTe-rbiN",
        "outputId": "713dc62f-59b3-4872-ab28-c578eb08c320"
      },
      "outputs": [
        {
          "name": "stdout",
          "output_type": "stream",
          "text": [
            "Requirement already satisfied: biopython in /home/hforoughmand/miniforge3/envs/dlmb/lib/python3.13/site-packages (1.84)\n",
            "Requirement already satisfied: numpy in /home/hforoughmand/miniforge3/envs/dlmb/lib/python3.13/site-packages (from biopython) (2.1.2)\n",
            "Note: you may need to restart the kernel to use updated packages.\n",
            "Collecting seaborn\n",
            "  Downloading seaborn-0.13.2-py3-none-any.whl.metadata (5.4 kB)\n",
            "Requirement already satisfied: numpy!=1.24.0,>=1.20 in /home/hforoughmand/miniforge3/envs/dlmb/lib/python3.13/site-packages (from seaborn) (2.1.2)\n",
            "Collecting pandas>=1.2 (from seaborn)\n",
            "  Downloading pandas-2.2.3-cp313-cp313-manylinux_2_17_x86_64.manylinux2014_x86_64.whl.metadata (89 kB)\n",
            "Collecting matplotlib!=3.6.1,>=3.4 (from seaborn)\n",
            "  Downloading matplotlib-3.9.2-cp313-cp313-manylinux_2_17_x86_64.manylinux2014_x86_64.whl.metadata (11 kB)\n",
            "Collecting contourpy>=1.0.1 (from matplotlib!=3.6.1,>=3.4->seaborn)\n",
            "  Downloading contourpy-1.3.0-cp313-cp313-manylinux_2_17_x86_64.manylinux2014_x86_64.whl.metadata (5.4 kB)\n",
            "Collecting cycler>=0.10 (from matplotlib!=3.6.1,>=3.4->seaborn)\n",
            "  Downloading cycler-0.12.1-py3-none-any.whl.metadata (3.8 kB)\n",
            "Collecting fonttools>=4.22.0 (from matplotlib!=3.6.1,>=3.4->seaborn)\n",
            "  Downloading fonttools-4.54.1-cp313-cp313-manylinux_2_5_x86_64.manylinux1_x86_64.manylinux_2_17_x86_64.manylinux2014_x86_64.whl.metadata (163 kB)\n",
            "Collecting kiwisolver>=1.3.1 (from matplotlib!=3.6.1,>=3.4->seaborn)\n",
            "  Downloading kiwisolver-1.4.7-cp313-cp313-manylinux_2_17_x86_64.manylinux2014_x86_64.whl.metadata (6.3 kB)\n",
            "Requirement already satisfied: packaging>=20.0 in /home/hforoughmand/miniforge3/envs/dlmb/lib/python3.13/site-packages (from matplotlib!=3.6.1,>=3.4->seaborn) (24.1)\n",
            "Collecting pillow>=8 (from matplotlib!=3.6.1,>=3.4->seaborn)\n",
            "  Downloading pillow-10.4.0-cp313-cp313-manylinux_2_28_x86_64.whl.metadata (9.2 kB)\n",
            "Collecting pyparsing>=2.3.1 (from matplotlib!=3.6.1,>=3.4->seaborn)\n",
            "  Downloading pyparsing-3.1.4-py3-none-any.whl.metadata (5.1 kB)\n",
            "Requirement already satisfied: python-dateutil>=2.7 in /home/hforoughmand/miniforge3/envs/dlmb/lib/python3.13/site-packages (from matplotlib!=3.6.1,>=3.4->seaborn) (2.9.0)\n",
            "Collecting pytz>=2020.1 (from pandas>=1.2->seaborn)\n",
            "  Downloading pytz-2024.2-py2.py3-none-any.whl.metadata (22 kB)\n",
            "Collecting tzdata>=2022.7 (from pandas>=1.2->seaborn)\n",
            "  Downloading tzdata-2024.2-py2.py3-none-any.whl.metadata (1.4 kB)\n",
            "Requirement already satisfied: six>=1.5 in /home/hforoughmand/miniforge3/envs/dlmb/lib/python3.13/site-packages (from python-dateutil>=2.7->matplotlib!=3.6.1,>=3.4->seaborn) (1.16.0)\n",
            "Downloading seaborn-0.13.2-py3-none-any.whl (294 kB)\n",
            "Downloading matplotlib-3.9.2-cp313-cp313-manylinux_2_17_x86_64.manylinux2014_x86_64.whl (8.3 MB)\n",
            "\u001b[2K   \u001b[38;2;114;156;31m━━━━━━━━━━━━━━━━━━━━━━━━━━━━━━━━━━━━━━━━\u001b[0m \u001b[32m8.3/8.3 MB\u001b[0m \u001b[31m11.8 MB/s\u001b[0m eta \u001b[36m0:00:00\u001b[0m31m12.9 MB/s\u001b[0m eta \u001b[36m0:00:01\u001b[0m\n",
            "\u001b[?25hDownloading pandas-2.2.3-cp313-cp313-manylinux_2_17_x86_64.manylinux2014_x86_64.whl (12.7 MB)\n",
            "\u001b[2K   \u001b[38;2;114;156;31m━━━━━━━━━━━━━━━━━━━━━━━━━━━━━━━━━━━━━━━━\u001b[0m \u001b[32m12.7/12.7 MB\u001b[0m \u001b[31m12.0 MB/s\u001b[0m eta \u001b[36m0:00:00\u001b[0mm eta \u001b[36m0:00:01\u001b[0m[36m0:00:01\u001b[0m\n",
            "\u001b[?25hDownloading contourpy-1.3.0-cp313-cp313-manylinux_2_17_x86_64.manylinux2014_x86_64.whl (319 kB)\n",
            "Downloading cycler-0.12.1-py3-none-any.whl (8.3 kB)\n",
            "Downloading fonttools-4.54.1-cp313-cp313-manylinux_2_5_x86_64.manylinux1_x86_64.manylinux_2_17_x86_64.manylinux2014_x86_64.whl (4.9 MB)\n",
            "\u001b[2K   \u001b[38;2;114;156;31m━━━━━━━━━━━━━━━━━━━━━━━━━━━━━━━━━━━━━━━━\u001b[0m \u001b[32m4.9/4.9 MB\u001b[0m \u001b[31m12.0 MB/s\u001b[0m eta \u001b[36m0:00:00\u001b[0m MB/s\u001b[0m eta \u001b[36m0:00:01\u001b[0m\n",
            "\u001b[?25hDownloading kiwisolver-1.4.7-cp313-cp313-manylinux_2_17_x86_64.manylinux2014_x86_64.whl (1.5 MB)\n",
            "\u001b[2K   \u001b[38;2;114;156;31m━━━━━━━━━━━━━━━━━━━━━━━━━━━━━━━━━━━━━━━━\u001b[0m \u001b[32m1.5/1.5 MB\u001b[0m \u001b[31m10.3 MB/s\u001b[0m eta \u001b[36m0:00:00\u001b[0m\n",
            "\u001b[?25hDownloading pillow-10.4.0-cp313-cp313-manylinux_2_28_x86_64.whl (4.5 MB)\n",
            "\u001b[2K   \u001b[38;2;114;156;31m━━━━━━━━━━━━━━━━━━━━━━━━━━━━━━━━━━━━━━━━\u001b[0m \u001b[32m4.5/4.5 MB\u001b[0m \u001b[31m11.7 MB/s\u001b[0m eta \u001b[36m0:00:00\u001b[0m31m12.6 MB/s\u001b[0m eta \u001b[36m0:00:01\u001b[0m\n",
            "\u001b[?25hDownloading pyparsing-3.1.4-py3-none-any.whl (104 kB)\n",
            "Downloading pytz-2024.2-py2.py3-none-any.whl (508 kB)\n",
            "Downloading tzdata-2024.2-py2.py3-none-any.whl (346 kB)\n",
            "Installing collected packages: pytz, tzdata, pyparsing, pillow, kiwisolver, fonttools, cycler, contourpy, pandas, matplotlib, seaborn\n",
            "Successfully installed contourpy-1.3.0 cycler-0.12.1 fonttools-4.54.1 kiwisolver-1.4.7 matplotlib-3.9.2 pandas-2.2.3 pillow-10.4.0 pyparsing-3.1.4 pytz-2024.2 seaborn-0.13.2 tzdata-2024.2\n",
            "Note: you may need to restart the kernel to use updated packages.\n"
          ]
        }
      ],
      "source": [
        "%pip install biopython\n",
        "%pip install seaborn"
      ]
    },
    {
      "cell_type": "code",
      "execution_count": 12,
      "metadata": {
        "id": "zLOTRXcMreim"
      },
      "outputs": [
        {
          "name": "stdout",
          "output_type": "stream",
          "text": [
            "Klebsiella_pneumoniae_aztreonam\n",
            "rpsL 135 135 15 15\n",
            "ompK35 135 135 15 15\n",
            "acrR 135 135 15 15\n",
            "ompK37 135 135 15 15\n",
            "parC 135 135 15 15\n",
            "gyrA 135 135 15 15\n",
            "gyrB 135 135 15 15\n",
            "ompK36 135 135 15 15\n",
            "Staphylococcus_aureus_cefoxitin\n",
            "ileS 135 135 15 15\n",
            "dfrB 135 135 15 15\n",
            "fusA 135 135 15 15\n",
            "pbp2 135 135 15 15\n",
            "pbp4 135 135 15 15\n",
            "grlB 135 135 15 15\n",
            "rpoB 135 135 15 15\n",
            "grlA 135 135 15 15\n",
            "gyrA 135 135 15 15\n",
            "pbp4-promoter 135 135 15 15\n"
          ]
        }
      ],
      "source": [
        "import sys\n",
        "sys.path.append('seminar-dlmb-2024-winter-public/src/')\n",
        "# from utility.file_utility import FileUtility\n",
        "from amr.amr_utility import load_gene_data, create_gene_datasets\n",
        "\n",
        "# Creating our dataset\n",
        "create_gene_datasets(\"seminar-dlmb-2024-winter-public/\", \"seminar-dlmb-2024-winter-public/data/ds1\")\n",
        "\n",
        "# Loading the AMR prediction data\n",
        "ds = load_gene_data(\"seminar-dlmb-2024-winter-public/data/ds1\", \"Klebsiella_pneumoniae_aztreonam\", \"gyrA\")\n",
        "\n",
        "seq_train = [x[1] for x in ds[\"train\"]]\n",
        "y_train = [x[2] for x in ds[\"train\"]]\n",
        "\n",
        "seq_test = [x[1] for x in ds[\"test\"]]\n",
        "y_test = [x[2] for x in ds[\"test\"]]\n"
      ]
    },
    {
      "cell_type": "code",
      "execution_count": 13,
      "metadata": {
        "colab": {
          "base_uri": "https://localhost:8080/"
        },
        "id": "WI4sMG38rhqD",
        "outputId": "1ab47378-c90e-440f-d188-c243d4f6596c"
      },
      "outputs": [
        {
          "name": "stdout",
          "output_type": "stream",
          "text": [
            "Num of samples in train data: 135\n",
            "Num of samples in test data: 15\n"
          ]
        }
      ],
      "source": [
        "print('Num of samples in train data: {}'.format(len(seq_train)))\n",
        "print('Num of samples in test data: {}'.format(len(seq_test)))\n"
      ]
    },
    {
      "cell_type": "code",
      "execution_count": 14,
      "metadata": {
        "colab": {
          "base_uri": "https://localhost:8080/"
        },
        "id": "GITz5eTbriHR",
        "outputId": "2a3dcfc8-fcb1-4da8-aa78-80d469f77faa"
      },
      "outputs": [
        {
          "name": "stdout",
          "output_type": "stream",
          "text": [
            "Input of the first element:\n",
            "tggcacgaaaaaccaaacaacaggcacgtgaaacccggcaactgattctggatgttgctctgcgtctgttttcgcagcaaggcgtatcatctacctcgttggcaacaattgcaaaagctgcgggtgtaacgaggggggctatctactggcatttcaagaataaatcagatttattcaacgaaatttgggagctgtcagacgccagtattagcgatctcgaaattgagtatcgggcaaaattccccaacgatccactctcagttatcagggagattctagtctatgttcttgaagcgacagtgacagaagaacgtcgacgattaatgatggagattatctatcataagtgtgagttcgtcggtgaaatgaccgtggtgcagcaggcccagcggcagctctccctggcgagttatgagcgtatcgagcagaccttgaaagagtgcatcgcggcgaagctgctgcccgccaatttactcacccggcgggcggccgtgttaatgcgcagctacctttccgggctgatggaaaactggctgtttgcccccgattcgttcgacctgcatgcggaagcgcgggactacgtcgctattctgctggagatgtatcaattctgcccgacgctacgcggcccggagagcttgtcagcttaaa\n",
            "First label: 1 -> resistant\n"
          ]
        }
      ],
      "source": [
        "print('Input of the first element:\\n{}'.format(seq_train[0]))\n",
        "print('First label: {} -> resistant'.format(y_train[0]))"
      ]
    },
    {
      "cell_type": "code",
      "execution_count": 15,
      "metadata": {
        "id": "6Yx-RGFKrku8"
      },
      "outputs": [],
      "source": [
        "import seaborn as sns\n",
        "import numpy as np"
      ]
    },
    {
      "cell_type": "code",
      "execution_count": 17,
      "metadata": {
        "colab": {
          "base_uri": "https://localhost:8080/",
          "height": 447
        },
        "id": "eN3uFJqlrm8w",
        "outputId": "6300bc9f-2668-449d-90fd-6196519ced5d"
      },
      "outputs": [
        {
          "name": "stdout",
          "output_type": "stream",
          "text": [
            "Median and mean sequence length: 651.0, 650.8222222222222\n"
          ]
        },
        {
          "data": {
            "image/png": "[encoded data removed]",
            "text/plain": [
              "<Figure size 640x480 with 1 Axes>"
            ]
          },
          "metadata": {},
          "output_type": "display_data"
        }
      ],
      "source": [
        "len_train = [len(s) for s in seq_train]\n",
        "sns.histplot(len_train, binwidth=1)\n",
        "median = np.median(len_train)\n",
        "mean = np.mean(len_train)\n",
        "print('Median and mean sequence length: {}, {}'.format(median, mean))"
      ]
    },
    {
      "cell_type": "code",
      "execution_count": 19,
      "metadata": {
        "colab": {
          "base_uri": "https://localhost:8080/"
        },
        "id": "u6p9aOHvrpEZ",
        "outputId": "3a2c4bc1-e82f-4f31-9184-4489348dc96b"
      },
      "outputs": [
        {
          "name": "stdout",
          "output_type": "stream",
          "text": [
            "Labels in training data\n",
            "Non resistant: 11\n",
            "Resistant: 124\n"
          ]
        }
      ],
      "source": [
        "uniq_vals = set(y_train)\n",
        "y_train_int = list(map(int, y_train))\n",
        "print('Labels in training data')\n",
        "print('Non resistant: {}'.format(y_train_int.count(0)))\n",
        "print('Resistant: {}'.format(y_train_int.count(1)))"
      ]
    },
    {
      "cell_type": "code",
      "execution_count": 20,
      "metadata": {
        "colab": {
          "base_uri": "https://localhost:8080/"
        },
        "id": "Nq88QNXvrsLv",
        "outputId": "8469db5c-61be-42dc-a903-7eb2be012349"
      },
      "outputs": [
        {
          "name": "stdout",
          "output_type": "stream",
          "text": [
            "Labels in test data\n",
            "Non resistant: 4\n",
            "Resistant: 11\n"
          ]
        }
      ],
      "source": [
        "uniq_vals = set(y_test)\n",
        "y_test_int = list(map(int, y_test))\n",
        "print('Labels in test data')\n",
        "print('Non resistant: {}'.format(y_test_int.count(0)))\n",
        "print('Resistant: {}'.format(y_test_int.count(1)))"
      ]
    }
  ],
  "metadata": {
    "colab": {
      "authorship_tag": "ABX9TyO6dOwREOWKQKva2W7E2j0Z",
      "provenance": []
    },
    "kernelspec": {
      "display_name": "dlmb",
      "language": "python",
      "name": "python3"
    },
    "language_info": {
      "codemirror_mode": {
        "name": "ipython",
        "version": 3
      },
      "file_extension": ".py",
      "mimetype": "text/x-python",
      "name": "python",
      "nbconvert_exporter": "python",
      "pygments_lexer": "ipython3",
      "version": "3.13.0"
    }
  },
  "nbformat": 4,
  "nbformat_minor": 0
}
